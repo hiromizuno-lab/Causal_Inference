{
 "cells": [
  {
   "cell_type": "markdown",
   "metadata": {},
   "source": [
    "# Regression"
   ]
  },
  {
   "cell_type": "code",
   "execution_count": 1,
   "metadata": {},
   "outputs": [],
   "source": [
    "import numpy as np\n",
    "import pandas as pd\n",
    "import matplotlib.pyplot as plt\n",
    "import seaborn as sns\n",
    "%matplotlib inline"
   ]
  },
  {
   "cell_type": "code",
   "execution_count": 3,
   "metadata": {},
   "outputs": [],
   "source": [
    "import statsmodels.api as sm\n",
    "import joblib\n",
    "import os"
   ]
  },
  {
   "cell_type": "code",
   "execution_count": 4,
   "metadata": {},
   "outputs": [],
   "source": [
    "df = pd.read_csv('Kevin_Hillstrom_MineThatData_E-MailAnalytics_DataMiningChallenge_2008.03.20.csv')"
   ]
  },
  {
   "cell_type": "code",
   "execution_count": 5,
   "metadata": {},
   "outputs": [
    {
     "data": {
      "text/html": [
       "<div>\n",
       "<style scoped>\n",
       "    .dataframe tbody tr th:only-of-type {\n",
       "        vertical-align: middle;\n",
       "    }\n",
       "\n",
       "    .dataframe tbody tr th {\n",
       "        vertical-align: top;\n",
       "    }\n",
       "\n",
       "    .dataframe thead th {\n",
       "        text-align: right;\n",
       "    }\n",
       "</style>\n",
       "<table border=\"1\" class=\"dataframe\">\n",
       "  <thead>\n",
       "    <tr style=\"text-align: right;\">\n",
       "      <th></th>\n",
       "      <th>recency</th>\n",
       "      <th>history_segment</th>\n",
       "      <th>history</th>\n",
       "      <th>mens</th>\n",
       "      <th>womens</th>\n",
       "      <th>zip_code</th>\n",
       "      <th>newbie</th>\n",
       "      <th>channel</th>\n",
       "      <th>segment</th>\n",
       "      <th>visit</th>\n",
       "      <th>conversion</th>\n",
       "      <th>spend</th>\n",
       "    </tr>\n",
       "  </thead>\n",
       "  <tbody>\n",
       "    <tr>\n",
       "      <td>0</td>\n",
       "      <td>10</td>\n",
       "      <td>2) $100 - $200</td>\n",
       "      <td>142.44</td>\n",
       "      <td>1</td>\n",
       "      <td>0</td>\n",
       "      <td>Surburban</td>\n",
       "      <td>0</td>\n",
       "      <td>Phone</td>\n",
       "      <td>Womens E-Mail</td>\n",
       "      <td>0</td>\n",
       "      <td>0</td>\n",
       "      <td>0.0</td>\n",
       "    </tr>\n",
       "    <tr>\n",
       "      <td>1</td>\n",
       "      <td>6</td>\n",
       "      <td>3) $200 - $350</td>\n",
       "      <td>329.08</td>\n",
       "      <td>1</td>\n",
       "      <td>1</td>\n",
       "      <td>Rural</td>\n",
       "      <td>1</td>\n",
       "      <td>Web</td>\n",
       "      <td>No E-Mail</td>\n",
       "      <td>0</td>\n",
       "      <td>0</td>\n",
       "      <td>0.0</td>\n",
       "    </tr>\n",
       "    <tr>\n",
       "      <td>2</td>\n",
       "      <td>7</td>\n",
       "      <td>2) $100 - $200</td>\n",
       "      <td>180.65</td>\n",
       "      <td>0</td>\n",
       "      <td>1</td>\n",
       "      <td>Surburban</td>\n",
       "      <td>1</td>\n",
       "      <td>Web</td>\n",
       "      <td>Womens E-Mail</td>\n",
       "      <td>0</td>\n",
       "      <td>0</td>\n",
       "      <td>0.0</td>\n",
       "    </tr>\n",
       "    <tr>\n",
       "      <td>3</td>\n",
       "      <td>9</td>\n",
       "      <td>5) $500 - $750</td>\n",
       "      <td>675.83</td>\n",
       "      <td>1</td>\n",
       "      <td>0</td>\n",
       "      <td>Rural</td>\n",
       "      <td>1</td>\n",
       "      <td>Web</td>\n",
       "      <td>Mens E-Mail</td>\n",
       "      <td>0</td>\n",
       "      <td>0</td>\n",
       "      <td>0.0</td>\n",
       "    </tr>\n",
       "    <tr>\n",
       "      <td>4</td>\n",
       "      <td>2</td>\n",
       "      <td>1) $0 - $100</td>\n",
       "      <td>45.34</td>\n",
       "      <td>1</td>\n",
       "      <td>0</td>\n",
       "      <td>Urban</td>\n",
       "      <td>0</td>\n",
       "      <td>Web</td>\n",
       "      <td>Womens E-Mail</td>\n",
       "      <td>0</td>\n",
       "      <td>0</td>\n",
       "      <td>0.0</td>\n",
       "    </tr>\n",
       "  </tbody>\n",
       "</table>\n",
       "</div>"
      ],
      "text/plain": [
       "   recency history_segment  history  mens  womens   zip_code  newbie channel  \\\n",
       "0       10  2) $100 - $200   142.44     1       0  Surburban       0   Phone   \n",
       "1        6  3) $200 - $350   329.08     1       1      Rural       1     Web   \n",
       "2        7  2) $100 - $200   180.65     0       1  Surburban       1     Web   \n",
       "3        9  5) $500 - $750   675.83     1       0      Rural       1     Web   \n",
       "4        2    1) $0 - $100    45.34     1       0      Urban       0     Web   \n",
       "\n",
       "         segment  visit  conversion  spend  \n",
       "0  Womens E-Mail      0           0    0.0  \n",
       "1      No E-Mail      0           0    0.0  \n",
       "2  Womens E-Mail      0           0    0.0  \n",
       "3    Mens E-Mail      0           0    0.0  \n",
       "4  Womens E-Mail      0           0    0.0  "
      ]
     },
     "execution_count": 5,
     "metadata": {},
     "output_type": "execute_result"
    }
   ],
   "source": [
    "df.head()"
   ]
  },
  {
   "cell_type": "code",
   "execution_count": 6,
   "metadata": {},
   "outputs": [
    {
     "name": "stderr",
     "output_type": "stream",
     "text": [
      "/opt/anaconda3/lib/python3.7/site-packages/ipykernel_launcher.py:2: SettingWithCopyWarning: \n",
      "A value is trying to be set on a copy of a slice from a DataFrame.\n",
      "Try using .loc[row_indexer,col_indexer] = value instead\n",
      "\n",
      "See the caveats in the documentation: http://pandas.pydata.org/pandas-docs/stable/user_guide/indexing.html#returning-a-view-versus-a-copy\n",
      "  \n"
     ]
    }
   ],
   "source": [
    "male_df = df[~(df['segment'] == 'Womens E-Mail')]\n",
    "male_df['treatment'] = male_df['segment'].apply(lambda x: 1 if x == 'Mens E-Mail' else 0)"
   ]
  },
  {
   "cell_type": "code",
   "execution_count": 58,
   "metadata": {},
   "outputs": [
    {
     "data": {
      "text/html": [
       "<div>\n",
       "<style scoped>\n",
       "    .dataframe tbody tr th:only-of-type {\n",
       "        vertical-align: middle;\n",
       "    }\n",
       "\n",
       "    .dataframe tbody tr th {\n",
       "        vertical-align: top;\n",
       "    }\n",
       "\n",
       "    .dataframe thead th {\n",
       "        text-align: right;\n",
       "    }\n",
       "</style>\n",
       "<table border=\"1\" class=\"dataframe\">\n",
       "  <thead>\n",
       "    <tr style=\"text-align: right;\">\n",
       "      <th></th>\n",
       "      <th>recency</th>\n",
       "      <th>history_segment</th>\n",
       "      <th>history</th>\n",
       "      <th>mens</th>\n",
       "      <th>womens</th>\n",
       "      <th>zip_code</th>\n",
       "      <th>newbie</th>\n",
       "      <th>channel</th>\n",
       "      <th>segment</th>\n",
       "      <th>visit</th>\n",
       "      <th>conversion</th>\n",
       "      <th>spend</th>\n",
       "      <th>treatment</th>\n",
       "    </tr>\n",
       "  </thead>\n",
       "  <tbody>\n",
       "    <tr>\n",
       "      <td>0</td>\n",
       "      <td>8</td>\n",
       "      <td>5) $500 - $750</td>\n",
       "      <td>572.65</td>\n",
       "      <td>1</td>\n",
       "      <td>0</td>\n",
       "      <td>Urban</td>\n",
       "      <td>1</td>\n",
       "      <td>Web</td>\n",
       "      <td>No E-Mail</td>\n",
       "      <td>0</td>\n",
       "      <td>0</td>\n",
       "      <td>0.0</td>\n",
       "      <td>0</td>\n",
       "    </tr>\n",
       "    <tr>\n",
       "      <td>1</td>\n",
       "      <td>5</td>\n",
       "      <td>1) $0 - $100</td>\n",
       "      <td>42.38</td>\n",
       "      <td>1</td>\n",
       "      <td>0</td>\n",
       "      <td>Urban</td>\n",
       "      <td>1</td>\n",
       "      <td>Phone</td>\n",
       "      <td>No E-Mail</td>\n",
       "      <td>1</td>\n",
       "      <td>0</td>\n",
       "      <td>0.0</td>\n",
       "      <td>0</td>\n",
       "    </tr>\n",
       "    <tr>\n",
       "      <td>2</td>\n",
       "      <td>1</td>\n",
       "      <td>7) $1,000 +</td>\n",
       "      <td>3003.48</td>\n",
       "      <td>1</td>\n",
       "      <td>1</td>\n",
       "      <td>Urban</td>\n",
       "      <td>1</td>\n",
       "      <td>Phone</td>\n",
       "      <td>No E-Mail</td>\n",
       "      <td>0</td>\n",
       "      <td>0</td>\n",
       "      <td>0.0</td>\n",
       "      <td>0</td>\n",
       "    </tr>\n",
       "    <tr>\n",
       "      <td>3</td>\n",
       "      <td>1</td>\n",
       "      <td>5) $500 - $750</td>\n",
       "      <td>662.10</td>\n",
       "      <td>0</td>\n",
       "      <td>1</td>\n",
       "      <td>Urban</td>\n",
       "      <td>1</td>\n",
       "      <td>Web</td>\n",
       "      <td>No E-Mail</td>\n",
       "      <td>0</td>\n",
       "      <td>0</td>\n",
       "      <td>0.0</td>\n",
       "      <td>0</td>\n",
       "    </tr>\n",
       "    <tr>\n",
       "      <td>4</td>\n",
       "      <td>5</td>\n",
       "      <td>1) $0 - $100</td>\n",
       "      <td>44.37</td>\n",
       "      <td>0</td>\n",
       "      <td>1</td>\n",
       "      <td>Urban</td>\n",
       "      <td>0</td>\n",
       "      <td>Web</td>\n",
       "      <td>No E-Mail</td>\n",
       "      <td>0</td>\n",
       "      <td>0</td>\n",
       "      <td>0.0</td>\n",
       "      <td>0</td>\n",
       "    </tr>\n",
       "  </tbody>\n",
       "</table>\n",
       "</div>"
      ],
      "text/plain": [
       "   recency history_segment  history  mens  womens zip_code  newbie channel  \\\n",
       "0        8  5) $500 - $750   572.65     1       0    Urban       1     Web   \n",
       "1        5    1) $0 - $100    42.38     1       0    Urban       1   Phone   \n",
       "2        1     7) $1,000 +  3003.48     1       1    Urban       1   Phone   \n",
       "3        1  5) $500 - $750   662.10     0       1    Urban       1     Web   \n",
       "4        5    1) $0 - $100    44.37     0       1    Urban       0     Web   \n",
       "\n",
       "     segment  visit  conversion  spend  treatment  \n",
       "0  No E-Mail      0           0    0.0          0  \n",
       "1  No E-Mail      1           0    0.0          0  \n",
       "2  No E-Mail      0           0    0.0          0  \n",
       "3  No E-Mail      0           0    0.0          0  \n",
       "4  No E-Mail      0           0    0.0          0  "
      ]
     },
     "execution_count": 58,
     "metadata": {},
     "output_type": "execute_result"
    }
   ],
   "source": [
    "# treatment_df_tmp = male_df[male_df['treatment'] == 1]\n",
    "# control_df_tmp = male_df[male_df['treatment'] == 0]\n",
    "\n",
    "# treatment_df = treatment_df_tmp.drop(treatment_df_tmp[~(\n",
    "#     (treatment_df_tmp['history'] > 300) |\n",
    "#     (treatment_df_tmp['recency'] < 6) |\n",
    "#     (treatment_df_tmp['channel'] == 'Multichannel')\n",
    "# )].sample(frac=0.5, random_state=1).index)\n",
    "\n",
    "# control_df = control_df_tmp.drop(control_df_tmp[\n",
    "#     (control_df_tmp['history'] > 300) |\n",
    "#     (control_df_tmp['recency'] < 6) |\n",
    "#     (control_df_tmp['channel'] == 'Multichannel')\n",
    "# ].sample(frac=0.5, random_state=1).index)\n",
    "# biased_df = pd.concat([treatment_df, control_df])\n",
    "\n",
    "sample_rules = (male_df.history > 300) | (male_df.recency < 6) | (male_df.channel=='Multichannel')\n",
    "biased_df = pd.concat([\n",
    "    male_df[(sample_rules) & (male_df.treatment == 0)].sample(frac=0.5, random_state=1),\n",
    "    male_df[(sample_rules) & (male_df.treatment == 1)],\n",
    "    male_df[(~sample_rules) & (male_df.treatment == 0)],\n",
    "    male_df[(~sample_rules) & (male_df.treatment == 1)].sample(frac=0.5, random_state=1)\n",
    "], axis=0, ignore_index=True)\n",
    "\n",
    "biased_df.head()"
   ]
  },
  {
   "cell_type": "code",
   "execution_count": 59,
   "metadata": {},
   "outputs": [],
   "source": [
    "# 回帰分析の実行\n",
    "X = biased_df[['treatment', 'history']]\n",
    "X = sm.add_constant(X) # statsmodelsではβ0を明示的に入れてあげる必要がある\n",
    "y = biased_df['spend']\n",
    "model = sm.OLS(y, X)\n",
    "biased_reg = model.fit()"
   ]
  },
  {
   "cell_type": "code",
   "execution_count": 60,
   "metadata": {},
   "outputs": [
    {
     "data": {
      "text/html": [
       "<table class=\"simpletable\">\n",
       "<caption>OLS Regression Results</caption>\n",
       "<tr>\n",
       "  <th>Dep. Variable:</th>          <td>spend</td>      <th>  R-squared:         </th>  <td>   0.001</td>  \n",
       "</tr>\n",
       "<tr>\n",
       "  <th>Model:</th>                   <td>OLS</td>       <th>  Adj. R-squared:    </th>  <td>   0.001</td>  \n",
       "</tr>\n",
       "<tr>\n",
       "  <th>Method:</th>             <td>Least Squares</td>  <th>  F-statistic:       </th>  <td>   20.45</td>  \n",
       "</tr>\n",
       "<tr>\n",
       "  <th>Date:</th>             <td>Sat, 21 Nov 2020</td> <th>  Prob (F-statistic):</th>  <td>1.32e-09</td>  \n",
       "</tr>\n",
       "<tr>\n",
       "  <th>Time:</th>                 <td>05:59:22</td>     <th>  Log-Likelihood:    </th> <td>-1.3312e+05</td>\n",
       "</tr>\n",
       "<tr>\n",
       "  <th>No. Observations:</th>      <td> 31925</td>      <th>  AIC:               </th>  <td>2.663e+05</td> \n",
       "</tr>\n",
       "<tr>\n",
       "  <th>Df Residuals:</th>          <td> 31922</td>      <th>  BIC:               </th>  <td>2.663e+05</td> \n",
       "</tr>\n",
       "<tr>\n",
       "  <th>Df Model:</th>              <td>     2</td>      <th>                     </th>      <td> </td>     \n",
       "</tr>\n",
       "<tr>\n",
       "  <th>Covariance Type:</th>      <td>nonrobust</td>    <th>                     </th>      <td> </td>     \n",
       "</tr>\n",
       "</table>\n",
       "<table class=\"simpletable\">\n",
       "<tr>\n",
       "      <td></td>         <th>coef</th>     <th>std err</th>      <th>t</th>      <th>P>|t|</th>  <th>[0.025</th>    <th>0.975]</th>  \n",
       "</tr>\n",
       "<tr>\n",
       "  <th>const</th>     <td>    0.3413</td> <td>    0.147</td> <td>    2.327</td> <td> 0.020</td> <td>    0.054</td> <td>    0.629</td>\n",
       "</tr>\n",
       "<tr>\n",
       "  <th>treatment</th> <td>    0.9088</td> <td>    0.177</td> <td>    5.122</td> <td> 0.000</td> <td>    0.561</td> <td>    1.257</td>\n",
       "</tr>\n",
       "<tr>\n",
       "  <th>history</th>   <td>    0.0011</td> <td>    0.000</td> <td>    3.096</td> <td> 0.002</td> <td>    0.000</td> <td>    0.002</td>\n",
       "</tr>\n",
       "</table>\n",
       "<table class=\"simpletable\">\n",
       "<tr>\n",
       "  <th>Omnibus:</th>       <td>70760.532</td> <th>  Durbin-Watson:     </th>   <td>   2.002</td>   \n",
       "</tr>\n",
       "<tr>\n",
       "  <th>Prob(Omnibus):</th>  <td> 0.000</td>   <th>  Jarque-Bera (JB):  </th> <td>352134568.791</td>\n",
       "</tr>\n",
       "<tr>\n",
       "  <th>Skew:</th>           <td>20.807</td>   <th>  Prob(JB):          </th>   <td>    0.00</td>   \n",
       "</tr>\n",
       "<tr>\n",
       "  <th>Kurtosis:</th>       <td>515.825</td>  <th>  Cond. No.          </th>   <td>    833.</td>   \n",
       "</tr>\n",
       "</table><br/><br/>Warnings:<br/>[1] Standard Errors assume that the covariance matrix of the errors is correctly specified."
      ],
      "text/plain": [
       "<class 'statsmodels.iolib.summary.Summary'>\n",
       "\"\"\"\n",
       "                            OLS Regression Results                            \n",
       "==============================================================================\n",
       "Dep. Variable:                  spend   R-squared:                       0.001\n",
       "Model:                            OLS   Adj. R-squared:                  0.001\n",
       "Method:                 Least Squares   F-statistic:                     20.45\n",
       "Date:                Sat, 21 Nov 2020   Prob (F-statistic):           1.32e-09\n",
       "Time:                        05:59:22   Log-Likelihood:            -1.3312e+05\n",
       "No. Observations:               31925   AIC:                         2.663e+05\n",
       "Df Residuals:                   31922   BIC:                         2.663e+05\n",
       "Df Model:                           2                                         \n",
       "Covariance Type:            nonrobust                                         \n",
       "==============================================================================\n",
       "                 coef    std err          t      P>|t|      [0.025      0.975]\n",
       "------------------------------------------------------------------------------\n",
       "const          0.3413      0.147      2.327      0.020       0.054       0.629\n",
       "treatment      0.9088      0.177      5.122      0.000       0.561       1.257\n",
       "history        0.0011      0.000      3.096      0.002       0.000       0.002\n",
       "==============================================================================\n",
       "Omnibus:                    70760.532   Durbin-Watson:                   2.002\n",
       "Prob(Omnibus):                  0.000   Jarque-Bera (JB):        352134568.791\n",
       "Skew:                          20.807   Prob(JB):                         0.00\n",
       "Kurtosis:                     515.825   Cond. No.                         833.\n",
       "==============================================================================\n",
       "\n",
       "Warnings:\n",
       "[1] Standard Errors assume that the covariance matrix of the errors is correctly specified.\n",
       "\"\"\""
      ]
     },
     "execution_count": 60,
     "metadata": {},
     "output_type": "execute_result"
    }
   ],
   "source": [
    "# 回帰分析結果のレポート\n",
    "biased_reg.summary()"
   ]
  },
  {
   "cell_type": "markdown",
   "metadata": {},
   "source": [
    "## 2.2 回帰分析におけるバイアス\n",
    "### 2.2.1 共変量追加における効果"
   ]
  },
  {
   "cell_type": "code",
   "execution_count": 61,
   "metadata": {},
   "outputs": [],
   "source": [
    "# RCTデータでの単回帰分析の実行\n",
    "X = male_df['treatment']\n",
    "X = sm.add_constant(X) # statsmodelsではβ0を明示的に入れてあげる必要がある\n",
    "y = male_df['spend']\n",
    "model = sm.OLS(y, X)\n",
    "male_reg = model.fit()"
   ]
  },
  {
   "cell_type": "code",
   "execution_count": 62,
   "metadata": {},
   "outputs": [
    {
     "data": {
      "text/html": [
       "<table class=\"simpletable\">\n",
       "<caption>OLS Regression Results</caption>\n",
       "<tr>\n",
       "  <th>Dep. Variable:</th>          <td>spend</td>      <th>  R-squared:         </th>  <td>   0.001</td>  \n",
       "</tr>\n",
       "<tr>\n",
       "  <th>Model:</th>                   <td>OLS</td>       <th>  Adj. R-squared:    </th>  <td>   0.001</td>  \n",
       "</tr>\n",
       "<tr>\n",
       "  <th>Method:</th>             <td>Least Squares</td>  <th>  F-statistic:       </th>  <td>   28.09</td>  \n",
       "</tr>\n",
       "<tr>\n",
       "  <th>Date:</th>             <td>Sat, 21 Nov 2020</td> <th>  Prob (F-statistic):</th>  <td>1.16e-07</td>  \n",
       "</tr>\n",
       "<tr>\n",
       "  <th>Time:</th>                 <td>05:59:43</td>     <th>  Log-Likelihood:    </th> <td>-1.7584e+05</td>\n",
       "</tr>\n",
       "<tr>\n",
       "  <th>No. Observations:</th>      <td> 42613</td>      <th>  AIC:               </th>  <td>3.517e+05</td> \n",
       "</tr>\n",
       "<tr>\n",
       "  <th>Df Residuals:</th>          <td> 42611</td>      <th>  BIC:               </th>  <td>3.517e+05</td> \n",
       "</tr>\n",
       "<tr>\n",
       "  <th>Df Model:</th>              <td>     1</td>      <th>                     </th>      <td> </td>     \n",
       "</tr>\n",
       "<tr>\n",
       "  <th>Covariance Type:</th>      <td>nonrobust</td>    <th>                     </th>      <td> </td>     \n",
       "</tr>\n",
       "</table>\n",
       "<table class=\"simpletable\">\n",
       "<tr>\n",
       "      <td></td>         <th>coef</th>     <th>std err</th>      <th>t</th>      <th>P>|t|</th>  <th>[0.025</th>    <th>0.975]</th>  \n",
       "</tr>\n",
       "<tr>\n",
       "  <th>const</th>     <td>    0.6528</td> <td>    0.103</td> <td>    6.356</td> <td> 0.000</td> <td>    0.451</td> <td>    0.854</td>\n",
       "</tr>\n",
       "<tr>\n",
       "  <th>treatment</th> <td>    0.7698</td> <td>    0.145</td> <td>    5.300</td> <td> 0.000</td> <td>    0.485</td> <td>    1.055</td>\n",
       "</tr>\n",
       "</table>\n",
       "<table class=\"simpletable\">\n",
       "<tr>\n",
       "  <th>Omnibus:</th>       <td>94877.860</td> <th>  Durbin-Watson:     </th>   <td>   2.000</td>   \n",
       "</tr>\n",
       "<tr>\n",
       "  <th>Prob(Omnibus):</th>  <td> 0.000</td>   <th>  Jarque-Bera (JB):  </th> <td>502270597.344</td>\n",
       "</tr>\n",
       "<tr>\n",
       "  <th>Skew:</th>           <td>21.023</td>   <th>  Prob(JB):          </th>   <td>    0.00</td>   \n",
       "</tr>\n",
       "<tr>\n",
       "  <th>Kurtosis:</th>       <td>533.203</td>  <th>  Cond. No.          </th>   <td>    2.62</td>   \n",
       "</tr>\n",
       "</table><br/><br/>Warnings:<br/>[1] Standard Errors assume that the covariance matrix of the errors is correctly specified."
      ],
      "text/plain": [
       "<class 'statsmodels.iolib.summary.Summary'>\n",
       "\"\"\"\n",
       "                            OLS Regression Results                            \n",
       "==============================================================================\n",
       "Dep. Variable:                  spend   R-squared:                       0.001\n",
       "Model:                            OLS   Adj. R-squared:                  0.001\n",
       "Method:                 Least Squares   F-statistic:                     28.09\n",
       "Date:                Sat, 21 Nov 2020   Prob (F-statistic):           1.16e-07\n",
       "Time:                        05:59:43   Log-Likelihood:            -1.7584e+05\n",
       "No. Observations:               42613   AIC:                         3.517e+05\n",
       "Df Residuals:                   42611   BIC:                         3.517e+05\n",
       "Df Model:                           1                                         \n",
       "Covariance Type:            nonrobust                                         \n",
       "==============================================================================\n",
       "                 coef    std err          t      P>|t|      [0.025      0.975]\n",
       "------------------------------------------------------------------------------\n",
       "const          0.6528      0.103      6.356      0.000       0.451       0.854\n",
       "treatment      0.7698      0.145      5.300      0.000       0.485       1.055\n",
       "==============================================================================\n",
       "Omnibus:                    94877.860   Durbin-Watson:                   2.000\n",
       "Prob(Omnibus):                  0.000   Jarque-Bera (JB):        502270597.344\n",
       "Skew:                          21.023   Prob(JB):                         0.00\n",
       "Kurtosis:                     533.203   Cond. No.                         2.62\n",
       "==============================================================================\n",
       "\n",
       "Warnings:\n",
       "[1] Standard Errors assume that the covariance matrix of the errors is correctly specified.\n",
       "\"\"\""
      ]
     },
     "execution_count": 62,
     "metadata": {},
     "output_type": "execute_result"
    }
   ],
   "source": [
    "# 回帰分析結果のレポート\n",
    "male_reg.summary()"
   ]
  },
  {
   "cell_type": "code",
   "execution_count": 65,
   "metadata": {},
   "outputs": [],
   "source": [
    "# バイアスのあるデータでの単回帰分析の実行\n",
    "X = biased_df['treatment']\n",
    "X = sm.add_constant(X) # statsmodelsではβ0を明示的に入れてあげる必要がある\n",
    "y = biased_df['spend']\n",
    "model = sm.OLS(y, X)\n",
    "biased_reg = model.fit()"
   ]
  },
  {
   "cell_type": "code",
   "execution_count": 68,
   "metadata": {},
   "outputs": [
    {
     "data": {
      "text/html": [
       "<table class=\"simpletable\">\n",
       "<tr>\n",
       "      <td></td>         <th>coef</th>     <th>std err</th>      <th>t</th>      <th>P>|t|</th>  <th>[0.025</th>    <th>0.975]</th>  \n",
       "</tr>\n",
       "<tr>\n",
       "  <th>const</th>     <td>    0.5580</td> <td>    0.129</td> <td>    4.328</td> <td> 0.000</td> <td>    0.305</td> <td>    0.811</td>\n",
       "</tr>\n",
       "<tr>\n",
       "  <th>treatment</th> <td>    0.9837</td> <td>    0.176</td> <td>    5.596</td> <td> 0.000</td> <td>    0.639</td> <td>    1.328</td>\n",
       "</tr>\n",
       "</table>"
      ],
      "text/plain": [
       "<class 'statsmodels.iolib.table.SimpleTable'>"
      ]
     },
     "execution_count": 68,
     "metadata": {},
     "output_type": "execute_result"
    }
   ],
   "source": [
    "# 回帰分析結果のレポート\n",
    "biased_reg_table = biased_reg.summary()\n",
    "## 推定されたパラメーターの取り出し\n",
    "biased_reg_table.tables[1]"
   ]
  },
  {
   "cell_type": "code",
   "execution_count": 69,
   "metadata": {},
   "outputs": [],
   "source": [
    "# バイアスのあるデータでの重回帰分析の実行\n",
    "biased_df['channel'] = pd.get_dummies(biased_df['channel'])\n",
    "X = biased_df[['treatment', 'recency', 'channel', 'history']]\n",
    "X = sm.add_constant(X) # statsmodelsではβ0を明示的に入れてあげる必要がある\n",
    "y = biased_df['spend']\n",
    "model = sm.OLS(y, X)\n",
    "biased_mreg = model.fit()"
   ]
  },
  {
   "cell_type": "code",
   "execution_count": 70,
   "metadata": {},
   "outputs": [
    {
     "data": {
      "text/html": [
       "<table class=\"simpletable\">\n",
       "<tr>\n",
       "      <td></td>         <th>coef</th>     <th>std err</th>      <th>t</th>      <th>P>|t|</th>  <th>[0.025</th>    <th>0.975]</th>  \n",
       "</tr>\n",
       "<tr>\n",
       "  <th>const</th>     <td>    0.6008</td> <td>    0.240</td> <td>    2.500</td> <td> 0.012</td> <td>    0.130</td> <td>    1.072</td>\n",
       "</tr>\n",
       "<tr>\n",
       "  <th>treatment</th> <td>    0.8614</td> <td>    0.181</td> <td>    4.748</td> <td> 0.000</td> <td>    0.506</td> <td>    1.217</td>\n",
       "</tr>\n",
       "<tr>\n",
       "  <th>recency</th>   <td>   -0.0362</td> <td>    0.026</td> <td>   -1.376</td> <td> 0.169</td> <td>   -0.088</td> <td>    0.015</td>\n",
       "</tr>\n",
       "<tr>\n",
       "  <th>channel</th>   <td>   -0.1240</td> <td>    0.295</td> <td>   -0.420</td> <td> 0.675</td> <td>   -0.703</td> <td>    0.455</td>\n",
       "</tr>\n",
       "<tr>\n",
       "  <th>history</th>   <td>    0.0010</td> <td>    0.000</td> <td>    2.656</td> <td> 0.008</td> <td>    0.000</td> <td>    0.002</td>\n",
       "</tr>\n",
       "</table>"
      ],
      "text/plain": [
       "<class 'statsmodels.iolib.table.SimpleTable'>"
      ]
     },
     "execution_count": 70,
     "metadata": {},
     "output_type": "execute_result"
    }
   ],
   "source": [
    "# 回帰分析結果のレポート\n",
    "biased_mreg_table = biased_mreg.summary()\n",
    "## 推定されたパラメーターの取り出し\n",
    "biased_mreg_table.tables[1]"
   ]
  },
  {
   "cell_type": "markdown",
   "metadata": {},
   "source": [
    "### 2.2.2 Omitted Variable Bias"
   ]
  },
  {
   "cell_type": "code",
   "execution_count": 76,
   "metadata": {},
   "outputs": [
    {
     "name": "stdout",
     "output_type": "stream",
     "text": [
      "==============================================================================\n",
      "                 coef    std err          t      P>|t|      [0.025      0.975]\n",
      "------------------------------------------------------------------------------\n",
      "const          0.8774      0.217      4.052      0.000       0.453       1.302\n",
      "treatment      0.8902      0.181      4.915      0.000       0.535       1.245\n",
      "recency       -0.0507      0.026     -1.969      0.049      -0.101      -0.000\n",
      "channel        0.1878      0.271      0.693      0.489      -0.344       0.719\n",
      "==============================================================================\n",
      "0.89017989812997\n"
     ]
    }
   ],
   "source": [
    "# model A: historyなしのデータで重回帰分析\n",
    "X = biased_df[['treatment', 'recency', 'channel']]\n",
    "X = sm.add_constant(X) # statsmodelsではβ0を明示的に入れてあげる必要がある\n",
    "y = biased_df['spend']\n",
    "model_a = sm.OLS(y, X)\n",
    "biased_mreg_a = model_a.fit()\n",
    "short_coef = biased_mreg_a.summary().tables[1]\n",
    "print(short_coef)\n",
    "short_coef_df = pd.read_html(short_coef.as_html(), header=0, index_col=0)[0] #SimpleTableは扱いなれてないのでpandas DataFrameにする\n",
    "\n",
    "## aの結果から介入効果に関するパラメーターのみを取り出す\n",
    "alpha_1 = biased_mreg_a.params['treatment'] # summaryのデータは小数点が四捨五入されているため、正確な値をとってくる\n",
    "print(alpha_1)"
   ]
  },
  {
   "cell_type": "code",
   "execution_count": 77,
   "metadata": {},
   "outputs": [
    {
     "name": "stdout",
     "output_type": "stream",
     "text": [
      "==============================================================================\n",
      "                 coef    std err          t      P>|t|      [0.025      0.975]\n",
      "------------------------------------------------------------------------------\n",
      "const          0.6008      0.240      2.500      0.012       0.130       1.072\n",
      "treatment      0.8614      0.181      4.748      0.000       0.506       1.217\n",
      "recency       -0.0362      0.026     -1.376      0.169      -0.088       0.015\n",
      "channel       -0.1240      0.295     -0.420      0.675      -0.703       0.455\n",
      "history        0.0010      0.000      2.656      0.008       0.000       0.002\n",
      "==============================================================================\n"
     ]
    },
    {
     "name": "stderr",
     "output_type": "stream",
     "text": [
      "/opt/anaconda3/lib/python3.7/site-packages/numpy/core/fromnumeric.py:2495: FutureWarning: Method .ptp is deprecated and will be removed in a future version. Use numpy.ptp instead.\n",
      "  return ptp(axis=axis, out=out, **kwargs)\n"
     ]
    }
   ],
   "source": [
    "# model B: historyありのデータで重回帰分析\n",
    "X = biased_df[['treatment', 'recency', 'channel', 'history']]\n",
    "X = sm.add_constant(X) # statsmodelsではβ0を明示的に入れてあげる必要がある\n",
    "y = biased_df['spend']\n",
    "model_b = sm.OLS(y, X)\n",
    "biased_mreg_b = model_b.fit()\n",
    "long_coef = biased_mreg_b.summary().tables[1]\n",
    "print(long_coef)\n",
    "long_coef_df = pd.read_html(long_coef.as_html(), header=0, index_col=0)[0] #SimpleTableは扱いなれてないのでpandas DataFrameにする\n",
    "\n",
    "## bの結果から介入とhistoryに関するパラメーターを取り出す\n",
    "beta_1 = biased_mreg_b.params['treatment']\n",
    "beta_2 = biased_mreg_b.params['history']"
   ]
  },
  {
   "cell_type": "code",
   "execution_count": 78,
   "metadata": {},
   "outputs": [
    {
     "name": "stdout",
     "output_type": "stream",
     "text": [
      "==============================================================================\n",
      "                 coef    std err          t      P>|t|      [0.025      0.975]\n",
      "------------------------------------------------------------------------------\n",
      "const        272.7624      3.174     85.939      0.000     266.541     278.983\n",
      "treatment     28.4220      2.655     10.707      0.000      23.219      33.625\n",
      "recency      -14.2853      0.377    -37.861      0.000     -15.025     -13.546\n",
      "channel      307.4372      3.973     77.376      0.000     299.649     315.225\n",
      "==============================================================================\n"
     ]
    },
    {
     "name": "stderr",
     "output_type": "stream",
     "text": [
      "/opt/anaconda3/lib/python3.7/site-packages/numpy/core/fromnumeric.py:2495: FutureWarning: Method .ptp is deprecated and will be removed in a future version. Use numpy.ptp instead.\n",
      "  return ptp(axis=axis, out=out, **kwargs)\n"
     ]
    }
   ],
   "source": [
    "# model C: historyに対してモデルAの変数を使って重回帰分析\n",
    "X = biased_df[['treatment', 'recency', 'channel']]\n",
    "X = sm.add_constant(X) # statsmodelsではβ0を明示的に入れてあげる必要がある\n",
    "y = biased_df['history']\n",
    "model_c = sm.OLS(y, X)\n",
    "biased_mreg_c = model_c.fit()\n",
    "omitted_coef = biased_mreg_c.summary().tables[1]\n",
    "omitted_coef_df = pd.read_html(omitted_coef.as_html(), header=0, index_col=0)[0] #SimpleTableは扱いなれてないのでpandas DataFrameにする\n",
    "gamma_1 = biased_mreg_c.params['treatment']\n",
    "print(omitted_coef)"
   ]
  },
  {
   "cell_type": "code",
   "execution_count": 75,
   "metadata": {},
   "outputs": [
    {
     "name": "stdout",
     "output_type": "stream",
     "text": [
      "0.02882221175440766\n",
      "0.028822211754403693\n"
     ]
    }
   ],
   "source": [
    "## OVBの確認\n",
    "print(beta_2 * gamma_1)\n",
    "print(alpha_1 - beta_1)"
   ]
  },
  {
   "cell_type": "markdown",
   "metadata": {},
   "source": [
    "### 2.2.7 Post treatment bias"
   ]
  },
  {
   "cell_type": "code",
   "execution_count": 79,
   "metadata": {},
   "outputs": [
    {
     "data": {
      "text/html": [
       "<table class=\"simpletable\">\n",
       "<tr>\n",
       "      <td></td>         <th>coef</th>     <th>std err</th>      <th>t</th>      <th>P>|t|</th>  <th>[0.025</th>    <th>0.975]</th>  \n",
       "</tr>\n",
       "<tr>\n",
       "  <th>const</th>     <td>   -0.2988</td> <td>    0.239</td> <td>   -1.250</td> <td> 0.211</td> <td>   -0.767</td> <td>    0.170</td>\n",
       "</tr>\n",
       "<tr>\n",
       "  <th>treatment</th> <td>    0.2783</td> <td>    0.180</td> <td>    1.545</td> <td> 0.122</td> <td>   -0.075</td> <td>    0.631</td>\n",
       "</tr>\n",
       "<tr>\n",
       "  <th>visit</th>     <td>    7.2379</td> <td>    0.246</td> <td>   29.403</td> <td> 0.000</td> <td>    6.755</td> <td>    7.720</td>\n",
       "</tr>\n",
       "<tr>\n",
       "  <th>recency</th>   <td>    0.0090</td> <td>    0.026</td> <td>    0.346</td> <td> 0.729</td> <td>   -0.042</td> <td>    0.060</td>\n",
       "</tr>\n",
       "<tr>\n",
       "  <th>channel</th>   <td>   -0.1070</td> <td>    0.291</td> <td>   -0.367</td> <td> 0.714</td> <td>   -0.678</td> <td>    0.464</td>\n",
       "</tr>\n",
       "<tr>\n",
       "  <th>history</th>   <td>    0.0005</td> <td>    0.000</td> <td>    1.316</td> <td> 0.188</td> <td>   -0.000</td> <td>    0.001</td>\n",
       "</tr>\n",
       "</table>"
      ],
      "text/plain": [
       "<class 'statsmodels.iolib.table.SimpleTable'>"
      ]
     },
     "execution_count": 79,
     "metadata": {},
     "output_type": "execute_result"
    }
   ],
   "source": [
    "# Post treatment biasを使って重回帰分析を使って検証\n",
    "X = biased_df[['treatment', 'visit', 'recency', 'channel', 'history']]\n",
    "X = sm.add_constant(X) # statsmodelsではβ0を明示的に入れてあげる必要がある\n",
    "y = biased_df['spend']\n",
    "model_c = sm.OLS(y, X)\n",
    "biased_mreg_ptb = model_c.fit()\n",
    "biased_mreg_ptb.summary().tables[1]"
   ]
  },
  {
   "cell_type": "code",
   "execution_count": null,
   "metadata": {},
   "outputs": [],
   "source": []
  }
 ],
 "metadata": {
  "kernelspec": {
   "display_name": "Python 3",
   "language": "python",
   "name": "python3"
  },
  "language_info": {
   "codemirror_mode": {
    "name": "ipython",
    "version": 3
   },
   "file_extension": ".py",
   "mimetype": "text/x-python",
   "name": "python",
   "nbconvert_exporter": "python",
   "pygments_lexer": "ipython3",
   "version": "3.7.4"
  }
 },
 "nbformat": 4,
 "nbformat_minor": 4
}
